{
 "cells": [
  {
   "cell_type": "code",
   "execution_count": 1,
   "metadata": {
    "scrolled": false
   },
   "outputs": [
    {
     "ename": "ModuleNotFoundError",
     "evalue": "No module named 'bokeh.templates'",
     "output_type": "error",
     "traceback": [
      "\u001b[0;31m---------------------------------------------------------------------------\u001b[0m",
      "\u001b[0;31mModuleNotFoundError\u001b[0m                       Traceback (most recent call last)",
      "\u001b[0;32m<ipython-input-1-359b8277e10e>\u001b[0m in \u001b[0;36m<module>\u001b[0;34m()\u001b[0m\n\u001b[1;32m      4\u001b[0m \u001b[0;32mfrom\u001b[0m \u001b[0mbokeh\u001b[0m\u001b[0;34m.\u001b[0m\u001b[0mplotting\u001b[0m \u001b[0;32mimport\u001b[0m \u001b[0mfigure\u001b[0m\u001b[0;34m\u001b[0m\u001b[0m\n\u001b[1;32m      5\u001b[0m \u001b[0;32mfrom\u001b[0m \u001b[0mbokeh\u001b[0m\u001b[0;34m.\u001b[0m\u001b[0mresources\u001b[0m \u001b[0;32mimport\u001b[0m \u001b[0mINLINE\u001b[0m\u001b[0;34m\u001b[0m\u001b[0m\n\u001b[0;32m----> 6\u001b[0;31m \u001b[0;32mfrom\u001b[0m \u001b[0mbokeh\u001b[0m\u001b[0;34m.\u001b[0m\u001b[0mtemplates\u001b[0m \u001b[0;32mimport\u001b[0m \u001b[0mRESOURCES\u001b[0m\u001b[0;34m\u001b[0m\u001b[0m\n\u001b[0m\u001b[1;32m      7\u001b[0m \u001b[0;32mfrom\u001b[0m \u001b[0mbokeh\u001b[0m\u001b[0;34m.\u001b[0m\u001b[0mutil\u001b[0m\u001b[0;34m.\u001b[0m\u001b[0mstring\u001b[0m \u001b[0;32mimport\u001b[0m \u001b[0mencode_utf8\u001b[0m\u001b[0;34m\u001b[0m\u001b[0m\n\u001b[1;32m      8\u001b[0m \u001b[0;34m\u001b[0m\u001b[0m\n",
      "\u001b[0;31mModuleNotFoundError\u001b[0m: No module named 'bokeh.templates'"
     ]
    }
   ],
   "source": [
    "import flask\n",
    "\n",
    "from bokeh.embed import components\n",
    "from bokeh.plotting import figure\n",
    "from bokeh.resources import INLINE\n",
    "from bokeh.templates import RESOURCES\n",
    "from bokeh.util.string import encode_utf8\n",
    "\n",
    "app = flask.Flask(__name__)\n",
    "\n",
    "colors = {\n",
    "    'Black': '#000000',\n",
    "    'Red':   '#FF0000',\n",
    "    'Green': '#00FF00',\n",
    "    'Blue':  '#0000FF',\n",
    "}\n",
    "\n",
    "\n",
    "def getitem(obj, item, default):\n",
    "    if item not in obj:\n",
    "        return default\n",
    "    else:\n",
    "        return obj[item]\n",
    "\n",
    "\n",
    "@app.route(\"/\")\n",
    "def polynomial():\n",
    "    \"\"\" Very simple embedding of a polynomial chart\"\"\"\n",
    "    # Grab the inputs arguments from the URL\n",
    "    # This is automated by the button\n",
    "    args = flask.request.args\n",
    "\n",
    "    # Get all the form arguments in the url with defaults\n",
    "    color = colors[getitem(args, 'color', 'Black')]\n",
    "    _from = int(getitem(args, '_from', 0))\n",
    "    to = int(getitem(args, 'to', 10))\n",
    "\n",
    "    # Create a polynomial line graph\n",
    "    x = list(range(_from, to + 1))\n",
    "    fig = figure(title=\"Polynomial\")\n",
    "    fig.line(x, [i ** 2 for i in x], color=color, line_width=2)\n",
    "\n",
    "    # Configure resources to include BokehJS inline in the document.\n",
    "    # For more details see:\n",
    "    #   http://bokeh.pydata.org/en/latest/docs/reference/resources_embedding.html#module-bokeh.resources\n",
    "    plot_resources = RESOURCES.render(\n",
    "        js_raw=INLINE.js_raw,\n",
    "        css_raw=INLINE.css_raw,\n",
    "        js_files=INLINE.js_files,\n",
    "        css_files=INLINE.css_files,\n",
    "    )\n",
    "\n",
    "    # For more details see:\n",
    "    #   http://bokeh.pydata.org/en/latest/docs/user_guide/embedding.html#components\n",
    "    script, div = components(fig, INLINE)\n",
    "    html = flask.render_template(\n",
    "        'embed.html',\n",
    "        plot_script=script, plot_div=div, plot_resources=plot_resources,\n",
    "        color=color, _from=_from, to=to\n",
    "    )\n",
    "    return encode_utf8(html)\n",
    "\n",
    "\n",
    "def main():\n",
    "    app.debug = True\n",
    "    app.run()\n",
    "\n",
    "if __name__ == \"__main__\":\n",
    "    main()"
   ]
  },
  {
   "cell_type": "code",
   "execution_count": null,
   "metadata": {
    "collapsed": true
   },
   "outputs": [],
   "source": []
  },
  {
   "cell_type": "code",
   "execution_count": null,
   "metadata": {
    "collapsed": true
   },
   "outputs": [],
   "source": []
  }
 ],
 "metadata": {
  "kernelspec": {
   "display_name": "Python 3",
   "language": "python",
   "name": "python3"
  },
  "language_info": {
   "codemirror_mode": {
    "name": "ipython",
    "version": 3
   },
   "file_extension": ".py",
   "mimetype": "text/x-python",
   "name": "python",
   "nbconvert_exporter": "python",
   "pygments_lexer": "ipython3",
   "version": "3.6.3"
  }
 },
 "nbformat": 4,
 "nbformat_minor": 2
}
