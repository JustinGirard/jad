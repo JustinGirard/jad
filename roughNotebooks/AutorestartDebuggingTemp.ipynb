{
 "cells": [
  {
   "cell_type": "code",
   "execution_count": 7,
   "metadata": {},
   "outputs": [
    {
     "name": "stdout",
     "output_type": "stream",
     "text": [
      "autoRestartFix-20190115-714f2e6e-190d-11e9-8a0a-062b1b6fe204\n",
      "['_id', 'experiment_id', 'analytics_render_mode', 'block_id', 'cash', 'comments', 'degree', 'duration', 'end', 'jef_settings', 'me_current_date', 'me_orders', 'min_gain', 'mode', 'mv_alpha', 'mva_type', 'pipeline_models', 'pipeline_predictors', 'rtdelay_minutes', 'rtdelay_seconds', 'securities', 'start', 'tags', 'test_mode', 'time_res', 'tradeCost', 'trade_mode', 'trade_size', 'APD', 'APD_pl', 'BBBY', 'BBBY_pl', 'BDX', 'BDX_pl', 'CA', 'CA_pl', 'EMN', 'EMN_pl', 'ETR', 'ETR_pl', 'HAL', 'HAL_pl', 'MRO', 'MRO_pl', 'NCC', 'NCC_pl', 'PBG', 'PBG_pl', 'SBUX', 'SBUX_pl', 'SSP', 'SSP_pl', 'SYMC', 'SYMC_pl', 'TT', 'TT_pl', 'WMB', 'WMB_pl', 'current_date', 'index', 'me_last_price', 'sin_index', 'value_cash', 'value_holding', 'value_total', 'holding_CA', 'holding_WMB', 'holding_ETR', 'holding_SYMC', 'holding_HAL', 'holding_SBUX', 'holding_BDX', 'holding_PBG', 'holding_EMN', 'holding_MRO', 'holding_APD', 'holding_BBBY']\n",
      "autoR-propertiesFix-20190115-1426252a-190e-11e9-8b46-062b1b6fe204\n",
      "['_id', 'experiment_id', 'analytics_render_mode', 'block_id', 'cash', 'comments', 'degree', 'duration', 'end', 'jef_settings', 'me_current_date', 'me_orders', 'min_gain', 'mode', 'mv_alpha', 'mva_type', 'pipeline_models', 'pipeline_predictors', 'rtdelay_minutes', 'rtdelay_seconds', 'securities', 'start', 'tags', 'test_mode', 'time_res', 'tradeCost', 'trade_mode', 'trade_size', 'APD', 'APD_pl', 'BBBY', 'BBBY_pl', 'BDX', 'BDX_pl', 'CA', 'CA_pl', 'EMN', 'EMN_pl', 'ETR', 'ETR_pl', 'HAL', 'HAL_pl', 'MRO', 'MRO_pl', 'NCC', 'NCC_pl', 'PBG', 'PBG_pl', 'SBUX', 'SBUX_pl', 'SSP', 'SSP_pl', 'SYMC', 'SYMC_pl', 'TT', 'TT_pl', 'WMB', 'WMB_pl', 'current_date', 'index', 'me_last_price', 'sin_index', 'value_cash', 'value_holding', 'value_total', 'holding_CA', 'holding_WMB', 'holding_ETR', 'holding_SYMC', 'holding_HAL', 'holding_SBUX', 'holding_BDX', 'holding_PBG', 'holding_EMN', 'holding_MRO', 'holding_APD', 'holding_BBBY', 'holding_SSP']\n",
      "autoR-propertiesFix-20190116-bc18f95e-19b0-11e9-b0e5-062b1b6fe204\n",
      "['_id', 'experiment_id', 'analytics_render_mode', 'block_id', 'cash', 'comments', 'degree', 'duration', 'end', 'jef_settings', 'me_current_date', 'me_orders', 'min_gain', 'mode', 'mv_alpha', 'mva_type', 'pipeline_models', 'pipeline_predictors', 'rtdelay_minutes', 'rtdelay_seconds', 'securities', 'start', 'tags', 'test_mode', 'time_res', 'tradeCost', 'trade_mode', 'trade_size']\n",
      "autoR-propertiesFix-20190116-db02f856-19b0-11e9-ae9e-062b1b6fe204\n",
      "['_id', 'experiment_id', 'analytics_render_mode', 'block_id', 'cash', 'comments', 'degree', 'duration', 'end', 'jef_settings', 'me_current_date', 'me_orders', 'min_gain', 'mode', 'mv_alpha', 'mva_type', 'pipeline_models', 'pipeline_predictors', 'rtdelay_minutes', 'rtdelay_seconds', 'securities', 'start', 'tags', 'test_mode', 'time_res', 'tradeCost', 'trade_mode', 'trade_size']\n",
      "autoR-propertiesFix-20190116-e84b6cdc-19b0-11e9-bc60-062b1b6fe204\n",
      "['_id', 'experiment_id', 'analytics_render_mode', 'block_id', 'cash', 'comments', 'degree', 'duration', 'end', 'jef_settings', 'me_current_date', 'me_orders', 'min_gain', 'mode', 'mv_alpha', 'mva_type', 'pipeline_models', 'pipeline_predictors', 'rtdelay_minutes', 'rtdelay_seconds', 'securities', 'start', 'tags', 'test_mode', 'time_res', 'tradeCost', 'trade_mode', 'trade_size', 'APD', 'APD_pl', 'BBBY', 'BBBY_pl', 'BDX', 'BDX_pl', 'CA', 'CA_pl', 'EMN', 'EMN_pl', 'ETR', 'ETR_pl', 'HAL', 'HAL_pl', 'MRO', 'MRO_pl', 'NCC', 'NCC_pl', 'PBG', 'PBG_pl', 'SBUX', 'SBUX_pl', 'SSP', 'SSP_pl', 'SYMC', 'SYMC_pl', 'TT', 'TT_pl', 'WMB', 'WMB_pl', 'current_date', 'index', 'me_last_price', 'sin_index', 'value_cash', 'value_holding', 'value_total', 'holding_CA', 'holding_WMB', 'holding_ETR', 'holding_SYMC', 'holding_HAL', 'holding_SBUX', 'holding_BDX', 'holding_PBG', 'holding_EMN', 'holding_MRO', 'holding_APD', 'holding_BBBY']\n",
      "autoR-propertiesFix-20190116-0336ff70-19b1-11e9-83dd-062b1b6fe204\n",
      "['_id', 'experiment_id', 'analytics_render_mode', 'block_id', 'cash', 'comments', 'degree', 'duration', 'end', 'jef_settings', 'me_current_date', 'me_orders', 'min_gain', 'mode', 'mv_alpha', 'mva_type', 'pipeline_models', 'pipeline_predictors', 'rtdelay_minutes', 'rtdelay_seconds', 'securities', 'start', 'tags', 'test_mode', 'time_res', 'tradeCost', 'trade_mode', 'trade_size', 'APD', 'APD_pl', 'BBBY', 'BBBY_pl', 'BDX', 'BDX_pl', 'CA', 'CA_pl', 'EMN', 'EMN_pl', 'ETR', 'ETR_pl', 'HAL', 'HAL_pl', 'MRO', 'MRO_pl', 'NCC', 'NCC_pl', 'PBG', 'PBG_pl', 'SBUX', 'SBUX_pl', 'SSP', 'SSP_pl', 'SYMC', 'SYMC_pl', 'TT', 'TT_pl', 'WMB', 'WMB_pl', 'current_date', 'index', 'me_last_price', 'sin_index', 'value_cash', 'value_holding', 'value_total', 'holding_CA', 'holding_WMB', 'holding_ETR', 'holding_SYMC', 'holding_HAL', 'holding_SBUX', 'holding_BDX', 'holding_PBG', 'holding_EMN', 'holding_MRO', 'holding_APD', 'holding_BBBY']\n",
      "done\n"
     ]
    }
   ],
   "source": [
    "import sys\n",
    "sys.path.append('../../')\n",
    "from conf.conf import conf\n",
    "from conf.conf import objectConf\n",
    "\n",
    "exp_conn = {'mongo_server':conf.get( \"jef_mongo_host\" ) ,\n",
    "                         'mongo_port':conf.get( \"jef_mongo_port\"),\n",
    "                         'mongo_username':conf.get( \"jef_mongo_username\" ),\n",
    "                         'mongo_password':conf.get( \"jef_mongo_password\" ),\n",
    "                         'mongo_authSource':conf.get( \"jef_mongo_authSource\" ),\n",
    "                         'mongo_database':conf.get( \"jef_mongo_object_database\" ),\n",
    "                         'mongo_collection':conf.get( \"jef_mongo_properties_collection\" ) ,}   \n",
    "exp_conn_experiment = exp_conn.copy()\n",
    "\n",
    "exp_conn_experiment['mongo_collection']=conf.get( \"jef_mongo_experiments_collection\" )\n",
    "\n",
    "op = objectConf(exp_conn)\n",
    "oe = objectConf(exp_conn_experiment)\n",
    "#rec = op.find({'status':{'$in':['cleared','crashed','halted','killed','running']}})\n",
    "#rec = op.find({'status':'running'})\n",
    "rec = op.find({})\n",
    "status = {}\n",
    "\n",
    "for r in rec:\n",
    "    x = r\n",
    "    x['_id'] = str(x['_id'])\n",
    "    status[x['experiment_id']] = x\n",
    "    print(x['experiment_id'])\n",
    "    print(list(x.keys()))\n",
    "    if 'auto_restart' in x:\n",
    "        #print(x.keys())\n",
    "        print(x['experiment_id'],\",\",x['auto_restart'],x['last_contacted'])\n",
    "        #op.setKey({'experiment_id':x['experiment_id']})\n",
    "        #op.load()\n",
    "        #op.setSetting('auto_restart',False)\n",
    "        #op.save()\n",
    "print('done')"
   ]
  },
  {
   "cell_type": "code",
   "execution_count": null,
   "metadata": {
    "collapsed": true
   },
   "outputs": [],
   "source": []
  },
  {
   "cell_type": "code",
   "execution_count": null,
   "metadata": {
    "collapsed": true
   },
   "outputs": [],
   "source": []
  }
 ],
 "metadata": {
  "kernelspec": {
   "display_name": "Python (tensorflow)",
   "language": "python",
   "name": "tensorflow"
  },
  "language_info": {
   "codemirror_mode": {
    "name": "ipython",
    "version": 3
   },
   "file_extension": ".py",
   "mimetype": "text/x-python",
   "name": "python",
   "nbconvert_exporter": "python",
   "pygments_lexer": "ipython3",
   "version": "3.6.6"
  }
 },
 "nbformat": 4,
 "nbformat_minor": 2
}
