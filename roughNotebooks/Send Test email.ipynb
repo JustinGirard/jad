{
 "cells": [
  {
   "cell_type": "code",
   "execution_count": 1,
   "metadata": {},
   "outputs": [
    {
     "name": "stdout",
     "output_type": "stream",
     "text": [
      "PE mem include 1- 102.82421875\n",
      "{'from': 'Pax Financial <justingirard@paxculturastudios.com>', 'to': ['justingirard@justingirard.com'], 'subject': 'Welcome to the Pax Financial Alpha Test', 'html': \"\\n        <h1>Welcome to the trial!</h1>\\n        <b>Your API Key is 893a9b8d-b5f8-4786-b216-957b3bfef80b</b>\\n        <p>Over the last 7 years, Justin Girard and the Pax team have been doing what is called 'online timeseries regression'. In fact, in 2012, Justin Girard, discovered and published \\n        landmark work in the field of 'concurrent markov decision processes'. What this means, to most people, is that Justin discovered a way to make an uncountable amount of robots study \\n        streaming data together.</p>\\n        <br>\\n        <h2>Today we predict the stock market</h2>\\n        <p>Imagine you had a team of robots watching and analyzing each security you cared about. In 2016, after consulting for only a few years, Justin retired and founded Pax Financial, and FleetOps. Today he is\\n        granting access to one of the streaming algorithms he used to predict the market. Today, Justin advises the Pax Financial team and the FleetOps team.</p>\\n        <br>\\n        <h2>How does it work</h2>\\n        <ul>\\n        <li>1. Save your API Key</li>\\n        <li>2. Download the user plugin for Chrome</li>\\n        <li>(or) 3. Access your API in python</li>\\n        <li>4. Start saving your free data, and see the results for yourself</li>\\n        </ul>\\n\\n        <p> This information generates profit. When you reach the point where you (a) want to manage your own algorithms, or (b) need a real-time data stream for your team, drop us a line.</p>\\n        <p>for now, during the trial, you are invited to email justingirard@paxculturastudios.com .</p>\\n        \"}\n",
      "email justingirard@justingirard.com\n",
      "uid 893a9b8d-b5f8-4786-b216-957b3bfef80b\n",
      "Looking for result 200\n",
      "Success Email\n",
      "Done Email\n"
     ]
    },
    {
     "data": {
      "text/plain": [
       "'\\n        <!doctype html>\\n        <html lang=\"en\">\\n          <head>\\n            <link href=\"//netdna.bootstrapcdn.com/bootstrap/3.2.0/css/bootstrap.min.css\" rel=\"stylesheet\" id=\"bootstrap-css\">\\n            <script src=\"//netdna.bootstrapcdn.com/bootstrap/3.2.0/js/bootstrap.min.js\"></script>\\n            <script src=\"//code.jquery.com/jquery-1.11.1.min.js\"></script>\\n            <!------ Include the above in your HEAD tag ---------->\\n\\n            <meta charset=\"utf-8\">\\n            <meta name=\"viewport\" content=\"width=device-width, initial-scale=1, shrink-to-fit=no\">\\n            <meta name=\"description\" content=\"\">\\n            <meta name=\"author\" content=\"\">\\n\\n            <title>Financial Signals</title>\\n\\n\\n            <!-- Custom styles for this template -->\\n          </head>\\n\\n          <body >\\n\\n\\n\\n              <main role=\"main\" class=\"inner cover \">\\n                <div class=\"container-fluid\">\\n                    <section class=\"container\">\\n                        <div class=\"container-page\">                \\n                            <div class=\"col-md-12\">\\n\\n                                <h1 class=\"cover-heading\">Sign up for free signals</h1>\\n                                <p class=\"lead\">Each week a custom algorithm, trained to mirror your preferences, will send you a free collection of buy and sell signals for securities within the S&P 500. This service is free, and every signal you get will not be shared with anyone else.</p>\\n                            </div>\\n                        </div>\\n                    </section>\\n                </div>\\n\\n\\n                <div class=\"container-fluid\">\\n                    <section class=\"container\">\\n                        <div class=\"container-page\">                \\n                            <div class=\"col-md-6\">\\n                                <h3 class=\"dark-grey\">Registration</h3>\\n        <link rel=\"stylesheet\" href=\"https://stackpath.bootstrapcdn.com/bootstrap/4.1.3/css/bootstrap.min.css\" integrity=\"sha384-MCw98/SFnGE8fJT3GXwEOngsV7Zt27NXFoaoApmYm81iuXoPkFOJwJ8ERdknLPMO\" crossorigin=\"anonymous\"> \\n        <script src=\"https://code.jquery.com/jquery-3.3.1.slim.min.js\" integrity=\"sha384-q8i/X+965DzO0rT7abK41JStQIAqVgRVzpbzo5smXKp4YfRvH+8abtTE1Pi6jizo\" crossorigin=\"anonymous\"></script> \\n        <script src=\"https://cdnjs.cloudflare.com/ajax/libs/popper.js/1.14.3/umd/popper.min.js\" integrity=\"sha384-ZMP7rVo3mIykV+2+9J3UJ46jBk0WLaUAdn689aCwoqbBJiSnjAK/l8WvCWPIPm49\" crossorigin=\"anonymous\"></script> \\n        <script src=\"https://stackpath.bootstrapcdn.com/bootstrap/4.1.3/js/bootstrap.min.js\" integrity=\"sha384-ChfqqxuZUCnJSK3+MXmPNIyE6ZbWh2IMqE241rYiqJxyMiZ6OW/JmZQ5stwEULTy\" crossorigin=\"anonymous\"></script> \\n\\n                                \\n        <form> \\n        <h1>Thank you for signing up!</h1>\\n        </form>                             \\n                                \\n                                \\n                                </div>\\n                                <div class=\"col-md-6\">\\n                                    <h3 class=\"dark-grey\">Terms and Conditions</h3>\\n                                    <p>\\n                                        By clicking on \"Register\" you agree to The Company\\'s\\' Terms and Conditions\\n                                    </p>\\n                                    <p>\\n                                        Each signal sent to you is a result of statistical analysis by an algorithm and is not financial advice. Any decision made to act on statistical information is solely the decision of the user, and this scientific information, no matter how accurate, is not considered financial advice.\\n                                    </p>\\n                                    <p>\\n                                        Pax Financial is not responsible for any errors in our data, or the data we revieve from market data providers. It is the responsibility of users of the system to validate or invalidate the accuracy of statistical models.\\n                                    </p>\\n                                    <p>\\n                                        Pax Financial is not owed any commissions for profits, nor is it responsible for any losses, as a result of acting on the signals.\\n                                    </p>\\n                                    \\n                                </div>\\n                            </div>\\n                        </section>\\n                    </div>\\n                  </main>\\n\\n                  <footer class=\"mastfoot mt-auto\">\\n                  </footer>\\n                </div>\\n              </body>\\n            </html>'"
      ]
     },
     "execution_count": 1,
     "metadata": {},
     "output_type": "execute_result"
    }
   ],
   "source": [
    "import sys\n",
    "sys.path.append(\"../../\")\n",
    "from signals.endpoints.SignupUser import ServiceRun\n",
    "sr = ServiceRun(None)\n",
    "\n",
    "data = {\n",
    "    'debug_mode':False,\n",
    "    'name': 'Justin Girard',\n",
    "    'email':'justingirard@justingirard.com',\n",
    "    'secs': ['FB','KO']\n",
    "    }\n",
    "sr.serviceCall(data=data)\n",
    "\n"
   ]
  },
  {
   "cell_type": "code",
   "execution_count": 5,
   "metadata": {},
   "outputs": [
    {
     "name": "stdout",
     "output_type": "stream",
     "text": [
      "['68442908-7e05-447a-baf8-5701e2becd99', '893a9b8d-b5f8-4786-b216-957b3bfef80b', 'f71f9b48-5116-4325-8409-57548032613d']\n"
     ]
    }
   ],
   "source": [
    "import jad\n",
    "clientQuery = jad.dashboards.DataQueries.ClientQuery()\n",
    "clientQuery.DoAction(action_id='refresh')\n",
    "users = clientQuery.QueryData()\n",
    "print(users['user_id'])\n"
   ]
  }
 ],
 "metadata": {
  "kernelspec": {
   "display_name": "Python 3",
   "language": "python",
   "name": "python3"
  },
  "language_info": {
   "codemirror_mode": {
    "name": "ipython",
    "version": 3
   },
   "file_extension": ".py",
   "mimetype": "text/x-python",
   "name": "python",
   "nbconvert_exporter": "python",
   "pygments_lexer": "ipython3",
   "version": "3.6.3"
  }
 },
 "nbformat": 4,
 "nbformat_minor": 2
}
