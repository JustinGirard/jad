{
 "cells": [
  {
   "cell_type": "code",
   "execution_count": 1,
   "metadata": {},
   "outputs": [],
   "source": []
  },
  {
   "cell_type": "code",
   "execution_count": 1,
   "metadata": {},
   "outputs": [
    {
     "name": "stdout",
     "output_type": "stream",
     "text": [
      "Create endpoints\n",
      "PE mem include 1- 108.734375\n",
      "{'url': '', 'class': 'APITestConsole', 'module': 'jad.dashboards.APITestConsole', 'instance': <jad.dashboards.APITestConsole.APITestConsole object at 0x7f87dd09a358>, 'app': <bokeh.application.application.Application object at 0x7f87dcce4550>}\n",
      "{'/testapi/': <bokeh.application.application.Application object at 0x7f87de6b6390>, '/': <bokeh.application.application.Application object at 0x7f87dcce4550>}\n",
      "<bokeh.server.server.Server object at 0x7f87dccf4630>\n",
      "starting\n",
      "started\n",
      "LOADING...\n",
      "HTTPConnectionPool(host='dev.paxculturastudios.com', port=5000): Max retries exceeded with url: /api/autotrade/get/?apikey=justin1337 (Caused by NewConnectionError('<urllib3.connection.HTTPConnection object at 0x7f87dc796da0>: Failed to establish a new connection: [Errno 111] Connection refused',))\n"
     ]
    },
    {
     "name": "stderr",
     "output_type": "stream",
     "text": [
      "Traceback (most recent call last):\n",
      "  File \"/home/ec2-user/anaconda3/lib/python3.6/site-packages/urllib3/connection.py\", line 141, in _new_conn\n",
      "    (self.host, self.port), self.timeout, **extra_kw)\n",
      "  File \"/home/ec2-user/anaconda3/lib/python3.6/site-packages/urllib3/util/connection.py\", line 83, in create_connection\n",
      "    raise err\n",
      "  File \"/home/ec2-user/anaconda3/lib/python3.6/site-packages/urllib3/util/connection.py\", line 73, in create_connection\n",
      "    sock.connect(sa)\n",
      "ConnectionRefusedError: [Errno 111] Connection refused\n",
      "\n",
      "During handling of the above exception, another exception occurred:\n",
      "\n",
      "Traceback (most recent call last):\n",
      "  File \"/home/ec2-user/anaconda3/lib/python3.6/site-packages/urllib3/connectionpool.py\", line 601, in urlopen\n",
      "    chunked=chunked)\n",
      "  File \"/home/ec2-user/anaconda3/lib/python3.6/site-packages/urllib3/connectionpool.py\", line 357, in _make_request\n",
      "    conn.request(method, url, **httplib_request_kw)\n",
      "  File \"/home/ec2-user/anaconda3/lib/python3.6/http/client.py\", line 1239, in request\n",
      "    self._send_request(method, url, body, headers, encode_chunked)\n",
      "  File \"/home/ec2-user/anaconda3/lib/python3.6/http/client.py\", line 1285, in _send_request\n",
      "    self.endheaders(body, encode_chunked=encode_chunked)\n",
      "  File \"/home/ec2-user/anaconda3/lib/python3.6/http/client.py\", line 1234, in endheaders\n",
      "    self._send_output(message_body, encode_chunked=encode_chunked)\n",
      "  File \"/home/ec2-user/anaconda3/lib/python3.6/http/client.py\", line 1026, in _send_output\n",
      "    self.send(msg)\n",
      "  File \"/home/ec2-user/anaconda3/lib/python3.6/http/client.py\", line 964, in send\n",
      "    self.connect()\n",
      "  File \"/home/ec2-user/anaconda3/lib/python3.6/site-packages/urllib3/connection.py\", line 166, in connect\n",
      "    conn = self._new_conn()\n",
      "  File \"/home/ec2-user/anaconda3/lib/python3.6/site-packages/urllib3/connection.py\", line 150, in _new_conn\n",
      "    self, \"Failed to establish a new connection: %s\" % e)\n",
      "urllib3.exceptions.NewConnectionError: <urllib3.connection.HTTPConnection object at 0x7f87dc796da0>: Failed to establish a new connection: [Errno 111] Connection refused\n",
      "\n",
      "During handling of the above exception, another exception occurred:\n",
      "\n",
      "Traceback (most recent call last):\n",
      "  File \"/home/ec2-user/anaconda3/lib/python3.6/site-packages/requests/adapters.py\", line 440, in send\n",
      "    timeout=timeout\n",
      "  File \"/home/ec2-user/anaconda3/lib/python3.6/site-packages/urllib3/connectionpool.py\", line 639, in urlopen\n",
      "    _stacktrace=sys.exc_info()[2])\n",
      "  File \"/home/ec2-user/anaconda3/lib/python3.6/site-packages/urllib3/util/retry.py\", line 388, in increment\n",
      "    raise MaxRetryError(_pool, url, error or ResponseError(cause))\n",
      "urllib3.exceptions.MaxRetryError: HTTPConnectionPool(host='dev.paxculturastudios.com', port=5000): Max retries exceeded with url: /api/autotrade/get/?apikey=justin1337 (Caused by NewConnectionError('<urllib3.connection.HTTPConnection object at 0x7f87dc796da0>: Failed to establish a new connection: [Errno 111] Connection refused',))\n",
      "\n",
      "During handling of the above exception, another exception occurred:\n",
      "\n",
      "Traceback (most recent call last):\n",
      "  File \"../../bokehComponents/BokehComponents.py\", line 421, in DoAction\n",
      "    action_func(argumentIn=argument )\n",
      "  File \"../../bokehComponents/BokehComponents.py\", line 445, in set_filter\n",
      "    self.refresh()\n",
      "  File \"../../bokehComponents/BokehComponents.py\", line 436, in refresh\n",
      "    self.load_data_buffer()\n",
      "  File \"../../jad/dashboards/DataQueries.py\", line 817, in load_data_buffer\n",
      "    data = self.getData()\n",
      "  File \"../../jad/dashboards/DataQueries.py\", line 809, in getData\n",
      "    t = a.poll_stream(\"/api/autotrade/get/\")\n",
      "  File \"../../jad/dashboards/DataQueries.py\", line 783, in poll_stream\n",
      "    params = payload\n",
      "  File \"/home/ec2-user/anaconda3/lib/python3.6/site-packages/requests/api.py\", line 72, in get\n",
      "    return request('get', url, params=params, **kwargs)\n",
      "  File \"/home/ec2-user/anaconda3/lib/python3.6/site-packages/requests/api.py\", line 58, in request\n",
      "    return session.request(method=method, url=url, **kwargs)\n",
      "  File \"/home/ec2-user/anaconda3/lib/python3.6/site-packages/requests/sessions.py\", line 508, in request\n",
      "    resp = self.send(prep, **send_kwargs)\n",
      "  File \"/home/ec2-user/anaconda3/lib/python3.6/site-packages/requests/sessions.py\", line 618, in send\n",
      "    r = adapter.send(request, **kwargs)\n",
      "  File \"/home/ec2-user/anaconda3/lib/python3.6/site-packages/requests/adapters.py\", line 508, in send\n",
      "    raise ConnectionError(e, request=request)\n",
      "requests.exceptions.ConnectionError: HTTPConnectionPool(host='dev.paxculturastudios.com', port=5000): Max retries exceeded with url: /api/autotrade/get/?apikey=justin1337 (Caused by NewConnectionError('<urllib3.connection.HTTPConnection object at 0x7f87dc796da0>: Failed to establish a new connection: [Errno 111] Connection refused',))\n"
     ]
    }
   ],
   "source": [
    "import sys\n",
    "sys.path.append('../../')\n",
    "from bokeh.server.server import Server\n",
    "from findclass.findclass import findclass\n",
    "from flaskmanager.APIHandler import BokehServerManager\n",
    "from conf import conf\n",
    "bokeh_port = conf.conf.get('bokeh_base_port',5006)\n",
    "bokeh_url= conf.conf.get('bokeh_base_url','dev.paxculturastudios.com')\n",
    "bsm = BokehServerManager(bokeh_port,bokeh_url)\n"
   ]
  },
  {
   "cell_type": "code",
   "execution_count": null,
   "metadata": {
    "collapsed": true
   },
   "outputs": [],
   "source": []
  }
 ],
 "metadata": {
  "kernelspec": {
   "display_name": "Python 3",
   "language": "python",
   "name": "python3"
  },
  "language_info": {
   "codemirror_mode": {
    "name": "ipython",
    "version": 3
   },
   "file_extension": ".py",
   "mimetype": "text/x-python",
   "name": "python",
   "nbconvert_exporter": "python",
   "pygments_lexer": "ipython3",
   "version": "3.6.3"
  }
 },
 "nbformat": 4,
 "nbformat_minor": 2
}
