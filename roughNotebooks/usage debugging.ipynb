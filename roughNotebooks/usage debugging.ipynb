{
 "cells": [
  {
   "cell_type": "code",
   "execution_count": 1,
   "metadata": {
    "collapsed": true
   },
   "outputs": [],
   "source": [
    "import sys\n",
    "sys.path.append(\"/home/ec2-user\")\n",
    "import pymongo\n",
    "from pymongo import MongoClient\n",
    "from conf.conf import conf\n",
    "\n",
    "host=conf.get('mongo_host','54.214.220.236')\n",
    "port=conf.get('mongo_port',27017)\n",
    "username=conf.get('mongo_username','pax_user')\n",
    "password=conf.get('mongo_password','paxuser43')\n",
    "authSource=conf.get('mongo_authSource','fleetRover')\n",
    "client = MongoClient(host=host,port=port,username=username,password=password,authSource=authSource)\n",
    "db=client.advice"
   ]
  },
  {
   "cell_type": "markdown",
   "metadata": {},
   "source": [
    "## What's in the deleted collection?"
   ]
  },
  {
   "cell_type": "code",
   "execution_count": 2,
   "metadata": {},
   "outputs": [
    {
     "name": "stdout",
     "output_type": "stream",
     "text": [
      "{'_id': ObjectId('5c005e0c7596c342be5587de'), 'db': 'advice', 'collection': 'autotrades', 'doc': {'_id': ObjectId('5bfef77e54a48702a542607a'), 'experiment_id': 'dea8ddd8-f339-11e8-877e-062b1b6fe204', 'security': 'BXP', 'high_sell': 126.5775, 'bottom_sell': 114.5225, 'time_sell': datetime.datetime(2018, 4, 19, 9, 51), 'sharesAmount': 82, 'amount': 82, 'purchase_date': datetime.datetime(2018, 4, 19, 9, 31), 'cost': -9885.1, 'last_price': 120.55}}\n",
      "{'_id': ObjectId('5c005e137596c342be5587df'), 'db': 'advice', 'collection': 'autotrades', 'doc': {'_id': ObjectId('5bfef77e54a48702a542607b'), 'experiment_id': 'dea8ddd8-f339-11e8-877e-062b1b6fe204', 'security': 'ED', 'high_sell': 81.73200000000001, 'bottom_sell': 73.948, 'time_sell': datetime.datetime(2018, 4, 19, 9, 51), 'sharesAmount': 128, 'amount': 128, 'purchase_date': datetime.datetime(2018, 4, 19, 9, 31), 'cost': -9963.52, 'last_price': 77.84}}\n",
      "{'_id': ObjectId('5c005e267596c342be5587e0'), 'db': 'advice', 'collection': 'users', 'doc': {'_id': ObjectId('5bf6d0a05efc436094049859'), 'email': 'christopher.hemming@alumni.utoronto.ca', 'name': 'wesley_test', 'date': datetime.datetime(2018, 11, 22, 15, 52, 0, 702000), 'served': datetime.datetime(2018, 11, 22, 15, 52, 40, 995000), 'active': True, 'test': True}}\n",
      "{'_id': ObjectId('5c0061197596c343101c592c'), 'db': 'advice', 'collection': 'autotrades', 'doc': {'_id': ObjectId('5bfef77e54a48702a542607c'), 'experiment_id': 'dea8ddd8-f339-11e8-877e-062b1b6fe204', 'security': 'CLX', 'high_sell': 129.675, 'bottom_sell': 117.32499999999999, 'time_sell': datetime.datetime(2018, 4, 19, 9, 51), 'sharesAmount': 80, 'amount': 80, 'purchase_date': datetime.datetime(2018, 4, 19, 9, 31), 'cost': -9880.0, 'last_price': 123.5}}\n",
      "{'_id': ObjectId('5bfef77e54a48702a542607e'), 'experiment_id': 'dea8ddd8-f339-11e8-877e-062b1b6fe204', 'security': 'BXP', 'high_sell': 126.6615, 'bottom_sell': 114.59849999999999, 'time_sell': datetime.datetime(2018, 4, 19, 9, 52), 'sharesAmount': 82, 'amount': 82, 'purchase_date': datetime.datetime(2018, 4, 19, 9, 32), 'cost': -9891.66, 'last_price': 120.63, 'autotrades_id': ObjectId('5bfef77e54a48702a542607e')}\n",
      "{'_id': ObjectId('5bfef77e54a48702a542607f'), 'experiment_id': 'dea8ddd8-f339-11e8-877e-062b1b6fe204', 'security': 'ED', 'high_sell': 81.79500000000002, 'bottom_sell': 74.005, 'time_sell': datetime.datetime(2018, 4, 19, 9, 52), 'sharesAmount': 128, 'amount': 128, 'purchase_date': datetime.datetime(2018, 4, 19, 9, 32), 'cost': -9971.2, 'last_price': 77.9, 'autotrades_id': ObjectId('5bfef77e54a48702a542607f')}\n"
     ]
    }
   ],
   "source": [
    "deleted=db.deleted\n",
    "result = deleted.find()\n",
    "for doc in result:\n",
    "    print(doc)"
   ]
  },
  {
   "cell_type": "code",
   "execution_count": null,
   "metadata": {
    "collapsed": true
   },
   "outputs": [],
   "source": []
  }
 ],
 "metadata": {
  "kernelspec": {
   "display_name": "Python 3",
   "language": "python",
   "name": "python3"
  },
  "language_info": {
   "codemirror_mode": {
    "name": "ipython",
    "version": 3
   },
   "file_extension": ".py",
   "mimetype": "text/x-python",
   "name": "python",
   "nbconvert_exporter": "python",
   "pygments_lexer": "ipython3",
   "version": "3.6.3"
  }
 },
 "nbformat": 4,
 "nbformat_minor": 2
}
