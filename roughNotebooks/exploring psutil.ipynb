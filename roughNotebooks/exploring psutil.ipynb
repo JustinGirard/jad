{
 "cells": [
  {
   "cell_type": "markdown",
   "metadata": {},
   "source": [
    "The purpose of this notebook is to do some playing with the psutil module. It is in jad because the reason we want to be familiar with psutil is to use it in the JAD-Basic Analytics system console."
   ]
  },
  {
   "cell_type": "code",
   "execution_count": 1,
   "metadata": {
    "collapsed": true
   },
   "outputs": [],
   "source": [
    "import psutil"
   ]
  },
  {
   "cell_type": "code",
   "execution_count": 14,
   "metadata": {
    "scrolled": true
   },
   "outputs": [
    {
     "name": "stdout",
     "output_type": "stream",
     "text": [
      "3373 mongod 0.5 10.232187694852582\n",
      "3357 jupyter-noteboo 0.3 1.9951916188315415\n",
      "8035 python 0.0 7.517122323201081\n",
      "8453 python 0.0 2.769809374268145\n",
      "3969 python 0.0 8.24747056027621\n",
      "8560 python 0.0 1.3212672544894528\n",
      "7 rcu_sched 0.0 0.0\n",
      "2352 rngd 0.1 0.0024703972299929943\n",
      "21231 python 0.0 6.769975384962\n",
      "2342 irqbalance 0.0 0.06264927375262232\n",
      "6342 python 0.0 1.3798650767848868\n",
      "1545 jbd2/xvda1-8 0.0 0.0\n",
      "22069 python 1.4 1.4307552597227424\n",
      "10520 kworker/1:2 0.0 0.0\n",
      "2645 sendmail 0.0 0.12786776062443736\n",
      "1 init 0.0 0.06492203920421588\n",
      "26 kworker/0:1 0.0 0.0\n",
      "2602 sshd 0.0 0.07934915902737497\n",
      "22055 python 0.0 1.38223665812568\n",
      "2307 auditd 0.0 0.058993085852232695\n",
      "2328 rsyslogd 0.0 0.07618705057298393\n",
      "14 ksoftirqd/1 0.0 0.0\n",
      "3 ksoftirqd/0 0.0 0.0\n",
      "1907 kauditd 0.0 0.0\n",
      "1876 kworker/1:1H 0.0 0.0\n",
      "1571 kworker/0:1H 0.0 0.0\n",
      "2686 crond 0.0 0.06067295596862793\n",
      "20317 kworker/u30:1 0.0 0.0\n",
      "2258 dhclient 0.0 0.05059373527025652\n",
      "2612 ntpd 0.0 0.10938918934408977\n",
      "21701 sshd 0.0 0.09189877695573938\n",
      "2370 rpcbind 0.0 0.053657027835447825\n",
      "20407 kworker/u30:0 0.0 0.0\n",
      "13 migration/1 0.0 0.0\n",
      "9 migration/0 0.0 0.0\n",
      "149 khungtaskd 0.0 0.0\n",
      "21702 bash 0.0 0.1415043533339987\n",
      "1589 udevd 0.0 0.06531730276101476\n",
      "2176 dhclient 0.0 0.05583097739784166\n",
      "2737 agetty 0.0 0.03992161923668678\n",
      "2738 mingetty 0.0 0.036858326671495474\n",
      "4000 python 0.0 0.0\n",
      "2428 dbus-daemon 0.0 0.005731321573583746\n",
      "2 kthreadd 0.0 0.0\n",
      "5 kworker/0:0H 0.0 0.0\n",
      "8 rcu_bh 0.0 0.0\n",
      "10 lru-add-drain 0.0 0.0\n",
      "11 cpuhp/0 0.0 0.0\n",
      "12 cpuhp/1 0.0 0.0\n",
      "16 kworker/1:0H 0.0 0.0\n",
      "17 kdevtmpfs 0.0 0.0\n",
      "18 netns 0.0 0.0\n",
      "24 xenwatch 0.0 0.0\n",
      "25 xenbus 0.0 0.0\n",
      "150 oom_reaper 0.0 0.0\n",
      "151 writeback 0.0 0.0\n",
      "152 kcompactd0 0.0 0.0\n",
      "154 ksmd 0.0 0.0\n",
      "155 khugepaged 0.0 0.0\n",
      "156 crypto 0.0 0.0\n",
      "157 kintegrityd 0.0 0.0\n",
      "158 bioset 0.0 0.0\n",
      "160 kblockd 0.0 0.0\n",
      "511 md 0.0 0.0\n",
      "642 kswapd0 0.0 0.0\n",
      "643 vmstat 0.0 0.0\n",
      "740 kthrotld 0.0 0.0\n",
      "793 bioset 0.0 0.0\n",
      "1473 ata_sff 0.0 0.0\n",
      "1487 scsi_eh_0 0.0 0.0\n",
      "1488 scsi_tmf_0 0.0 0.0\n",
      "1491 scsi_eh_1 0.0 0.0\n",
      "1492 scsi_tmf_1 0.0 0.0\n",
      "1546 ext4-rsv-conver 0.0 0.0\n",
      "1715 udevd 0.0 0.05138426238385427\n",
      "1925 lvmetad 0.0 0.013636592709561328\n",
      "1943 lvmpolld 0.0 0.004940794459985989\n",
      "1995 ipv6_addrconf 0.0 0.0\n",
      "2391 rpc.statd 0.0 0.08073258147617104\n",
      "2463 acpid 0.0 0.037550037895893514\n",
      "2625 vsftpd 0.0 0.050000839935058196\n",
      "2654 sendmail 0.0 0.09980404809171696\n",
      "2700 atd 0.0 0.00415026734638823\n",
      "2742 mingetty 0.0 0.034486745330702194\n",
      "2745 mingetty 0.0 0.038241749120291546\n",
      "2747 mingetty 0.0 0.03438792944150248\n",
      "2749 mingetty 0.0 0.03814293323109183\n",
      "2751 mingetty 0.0 0.037747669674292945\n",
      "2752 udevd 0.0 0.05326176427864895\n",
      "18233 kworker/0:2 0.0 0.0\n",
      "21517 kworker/1:0 0.0 0.0\n",
      "21699 sshd 0.0 0.17569465099710174\n"
     ]
    }
   ],
   "source": [
    "for p in sorted(psutil.process_iter(attrs=['name', 'cpu_times']), key=lambda p: sum(p.info['cpu_times'][:2]), reverse=True):\n",
    "    print(p.pid,end=' ')\n",
    "    print(p.info['name'], end=' ')\n",
    "    #print(sum(p.info['cpu_times']), end=' ')\n",
    "    print(p.cpu_percent(), end=' ')\n",
    "    print(p.memory_percent())"
   ]
  },
  {
   "cell_type": "code",
   "execution_count": null,
   "metadata": {
    "collapsed": true
   },
   "outputs": [],
   "source": []
  }
 ],
 "metadata": {
  "kernelspec": {
   "display_name": "Python 3",
   "language": "python",
   "name": "python3"
  },
  "language_info": {
   "codemirror_mode": {
    "name": "ipython",
    "version": 3
   },
   "file_extension": ".py",
   "mimetype": "text/x-python",
   "name": "python",
   "nbconvert_exporter": "python",
   "pygments_lexer": "ipython3",
   "version": "3.6.3"
  }
 },
 "nbformat": 4,
 "nbformat_minor": 2
}
