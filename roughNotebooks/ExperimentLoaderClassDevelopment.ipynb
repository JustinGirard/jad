{
 "cells": [
  {
   "cell_type": "markdown",
   "metadata": {},
   "source": [
    "# Financial experiment\n",
    "Edit the financial experiment below, and resubmit the experiment to JEF when you are ready"
   ]
  },
  {
   "cell_type": "markdown",
   "metadata": {},
   "source": [
    "### Name the new experiment\n",
    "This will be displayed on the console"
   ]
  },
  {
   "cell_type": "code",
   "execution_count": 10,
   "metadata": {
    "collapsed": true
   },
   "outputs": [],
   "source": [
    "name = \"NewExperiment\""
   ]
  },
  {
   "cell_type": "markdown",
   "metadata": {},
   "source": [
    "### Load the experiment below\n",
    "Run the code to load the experiment. You may edit the file located in the path for a deeper edit of the process."
   ]
  },
  {
   "cell_type": "code",
   "execution_count": 11,
   "metadata": {},
   "outputs": [
    {
     "name": "stdout",
     "output_type": "stream",
     "text": [
      "{'mongo_server': 'dev.paxculturastudios.com', 'mongo_port': 27017, 'mongo_username': 'pax_user', 'mongo_password': 'paxuser43', 'mongo_authSource': 'fleetRover', 'mongo_database': 'fleetRover', 'mongo_collection': 'experiment_properties'}\n"
     ]
    }
   ],
   "source": [
    "import sys\n",
    "sys.path.append(\"../../\")\n",
    "from jad.dashboards.FinancialConsole import ExperimentInterface\n",
    "ei = ExperimentInterface()\n",
    "ei.LoadExperiment(name=name)\n"
   ]
  },
  {
   "cell_type": "code",
   "execution_count": 12,
   "metadata": {},
   "outputs": [
    {
     "name": "stdout",
     "output_type": "stream",
     "text": [
      "NewExperiment submitted to queue  experiment_id=674db256-2672-11e9-b0a7-062b1b6fe204\n",
      "dbfleetRover\n",
      "hostdev.paxculturastudios.com\n",
      "port27017\n",
      "usernamepax_user\n",
      "passwordpaxuser43\n",
      "authSourcefleetRover\n",
      "Max jobs: 1\n",
      "Max mem usage: 80.0\n",
      "Max load: 1.0\n",
      "INIT TRUE\n"
     ]
    }
   ],
   "source": [
    "\n",
    "import sys\n",
    "sys.path.append('../../')\n",
    "\n",
    "from conf import conf\n",
    "host=conf.conf.get(\"jef_mongo_host\")\n",
    "port=conf.conf.get(\"jef_mongo_port\")\n",
    "dbname=conf.conf.get(\"jef_mongo_db\")\n",
    "username=conf.conf.get(\"jef_mongo_username\")\n",
    "password=conf.conf.get(\"jef_mongo_password\")\n",
    "authSource=conf.conf.get(\"jef_mongo_authSource\")\n",
    "import sys\n",
    "sys.path.append('../../')\n",
    "\n",
    "from FinancialAlgorithm.FinancialOracle import PolynomialModel\n",
    "from FinancialAlgorithm.FinancialOracle import OrderPredictor\n",
    "from FinancialAlgorithm.FinancialOracle import FinancialOracle\n",
    "\n",
    "import os\n",
    "import uuid\n",
    "import inspect\n",
    "import datetime\n",
    "# path: Path to this file\n",
    "# In general, as annoying as it is, it may not be possible to get the current notebook name.\n",
    "# For python files, you can easily\n",
    "        \n",
    "path = '/home/ec2-user/FinancialAlgorithm/experiments/0c45a2da-265c-11e9-b0a7-062b1b6fe204.py'\n",
    "\n",
    "name_str = 'NewExperiment'\n",
    "import datetime\n",
    "loaded_settings={'analytics_render_mode': 'html',\n",
    " 'block_id': 1,\n",
    " 'cash': 200000,\n",
    " 'comments': 'linear extrapolation. Minute resolution. Hold duration is two '\n",
    "             'days. Experiment duration is 61 days. Out-of-hours timesteps are '\n",
    "             'excluded.',\n",
    " 'degree': 1,\n",
    " 'duration': '2 day',\n",
    " 'end': datetime.datetime(2009, 2, 7, 11, 0),\n",
    " 'jef_settings': {'authSource': 'fleetRover',\n",
    "                  'db': 'fleetRover',\n",
    "                  'exit_on_empty': True,\n",
    "                  'fork': False,\n",
    "                  'load_max': 1.0,\n",
    "                  'mem_max': 80,\n",
    "                  'mongo_server': 'dev.paxculturastudios.com',\n",
    "                  'nmax': 1,\n",
    "                  'password': 'paxuser43',\n",
    "                  'port': 27017,\n",
    "                  'sleep': 5,\n",
    "                  'username': 'pax_user'},\n",
    " 'min_gain': 0.001,\n",
    " 'mode': 'jef',\n",
    " 'mv_alpha': 0.999,\n",
    " 'mva_type': 'exponential',\n",
    " 'rtdelay_minutes': 1,\n",
    " 'rtdelay_seconds': 0,\n",
    " 'securities': ['HAL', 'BBBY'],\n",
    " 'start': datetime.datetime(2009, 1, 7, 9, 30),\n",
    " 'tags': ['linear',\n",
    "          'linear extrapolation',\n",
    "          'extrapolation',\n",
    "          'polynomial',\n",
    "          'minute'],\n",
    " 'test_mode': False,\n",
    " 'time_res': 'minute',\n",
    " 'tradeCost': 22,\n",
    " 'trade_mode': 'backtest-realtime',\n",
    " 'trade_size': 10000}\n",
    "\n",
    "processSettings = {\n",
    "            'processSettings' : loaded_settings,\n",
    "            'processClass' : FinancialOracle, #The class listed in this file.\n",
    "            #'experiment_id' : None,\n",
    "            'auto_restart': True,\n",
    "            'name' : name_str,    \n",
    "            'path' : path,    \n",
    "            'mode' : \"local\",\n",
    "           \n",
    "            'jef_settings': {\n",
    "                'db' : dbname,\n",
    "                'mongo_server' : host,\n",
    "                'port' : port,\n",
    "                'username' : username,\n",
    "                'password' : password,\n",
    "                'authSource':authSource,\n",
    "                'nmax':1,\n",
    "                'mem_max':80,\n",
    "                'load_max':1.00,\n",
    "                'sleep':5,\n",
    "                'fork':False,\n",
    "                'exit_on_empty':True}}        \n",
    "        \n",
    "        \n",
    "from processTemplate.JEFProcessHandle import JEFProcessHandle\n",
    "processSettings['mode']='jef'\n",
    "ph = JEFProcessHandle(processSettings)\n",
    "ph.run()\n",
    "        "
   ]
  },
  {
   "cell_type": "code",
   "execution_count": 4,
   "metadata": {
    "collapsed": true
   },
   "outputs": [],
   "source": []
  }
 ],
 "metadata": {
  "kernelspec": {
   "display_name": "Python (tensorflow)",
   "language": "python",
   "name": "tensorflow"
  },
  "language_info": {
   "codemirror_mode": {
    "name": "ipython",
    "version": 3
   },
   "file_extension": ".py",
   "mimetype": "text/x-python",
   "name": "python",
   "nbconvert_exporter": "python",
   "pygments_lexer": "ipython3",
   "version": "3.6.6"
  }
 },
 "nbformat": 4,
 "nbformat_minor": 2
}
